{
 "cells": [
  {
   "cell_type": "code",
   "execution_count": 2,
   "metadata": {},
   "outputs": [],
   "source": [
    "# connect to the database\n",
    "import sqlite3\n",
    "conn = sqlite3.connect('testcsv.db')\n",
    "# create a cursor   \n",
    "c = conn.cursor()   \n",
    "# create a table        \n",
    "c.execute(\"\"\"CREATE TABLE customers (\n",
    "        first_name text,\n",
    "        last_name text,\n",
    "        email text\n",
    "        )\"\"\")\n",
    "# commit our command\n",
    "conn.commit()\n",
    "# close our connection\n",
    "conn.close()\n",
    "\n",
    "\n"
   ]
  }
 ],
 "metadata": {
  "kernelspec": {
   "display_name": "Python 3.10.5 64-bit",
   "language": "python",
   "name": "python3"
  },
  "language_info": {
   "codemirror_mode": {
    "name": "ipython",
    "version": 3
   },
   "file_extension": ".py",
   "mimetype": "text/x-python",
   "name": "python",
   "nbconvert_exporter": "python",
   "pygments_lexer": "ipython3",
   "version": "3.10.5"
  },
  "orig_nbformat": 4,
  "vscode": {
   "interpreter": {
    "hash": "c19fa61d258bb2b35aae2ada233c33e2817c1ce895aa48acba720c6bf7cbe3cb"
   }
  }
 },
 "nbformat": 4,
 "nbformat_minor": 2
}
